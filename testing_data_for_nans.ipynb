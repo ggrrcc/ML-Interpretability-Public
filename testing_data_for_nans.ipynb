{
 "cells": [
  {
   "cell_type": "code",
   "execution_count": 1,
   "metadata": {},
   "outputs": [],
   "source": [
    "import pandas as pd"
   ]
  },
  {
   "cell_type": "code",
   "execution_count": 3,
   "metadata": {},
   "outputs": [],
   "source": [
    "# a = pd.read_stata('Inputs/Downloaded/test.dta')\n",
    "a = pd.read_stata('Inputs/Downloaded/Fundamentals_test.dta')"
   ]
  },
  {
   "cell_type": "code",
   "execution_count": 4,
   "metadata": {},
   "outputs": [
    {
     "data": {
      "text/plain": [
       "84"
      ]
     },
     "execution_count": 4,
     "metadata": {},
     "output_type": "execute_result"
    }
   ],
   "source": [
    "len(a)"
   ]
  },
  {
   "cell_type": "code",
   "execution_count": 5,
   "metadata": {},
   "outputs": [
    {
     "data": {
      "text/plain": [
       "gvkey        0\n",
       "datadate     0\n",
       "fyearq       0\n",
       "fqtr         0\n",
       "indfmt       0\n",
       "consol       0\n",
       "popsrc       0\n",
       "datafmt      0\n",
       "tic          0\n",
       "curcdq       0\n",
       "datacqtr     0\n",
       "datafqtr     0\n",
       "scfq         0\n",
       "rdq          0\n",
       "actq        12\n",
       "atq          0\n",
       "cshoq        0\n",
       "epspiq       0\n",
       "icaptq       0\n",
       "ltq          0\n",
       "niq          0\n",
       "oiadpq       6\n",
       "oibdpq       0\n",
       "optrfrq     66\n",
       "rectrq      21\n",
       "req          0\n",
       "revtq       12\n",
       "teqq         0\n",
       "txtq         0\n",
       "uniamiq     84\n",
       "urectq      84\n",
       "wcapq       12\n",
       "xintq       12\n",
       "xoprq        0\n",
       "aqcy        17\n",
       "cogsy        0\n",
       "dlcchy      39\n",
       "dltisy       0\n",
       "dpy          6\n",
       "epsfiy       0\n",
       "niy          0\n",
       "oancfy       0\n",
       "oiadpy       6\n",
       "oibdpy       0\n",
       "optrfry     58\n",
       "revty       12\n",
       "costat       0\n",
       "naics        0\n",
       "state        0\n",
       "dtype: int64"
      ]
     },
     "execution_count": 5,
     "metadata": {},
     "output_type": "execute_result"
    }
   ],
   "source": [
    "a.isna().sum()"
   ]
  },
  {
   "cell_type": "code",
   "execution_count": 6,
   "metadata": {},
   "outputs": [
    {
     "data": {
      "text/plain": [
       "6"
      ]
     },
     "execution_count": 6,
     "metadata": {},
     "output_type": "execute_result"
    }
   ],
   "source": [
    "b = a.loc[:,'dpy']\n",
    "b.isna().sum()"
   ]
  },
  {
   "cell_type": "code",
   "execution_count": 7,
   "metadata": {},
   "outputs": [
    {
     "data": {
      "text/plain": [
       "84"
      ]
     },
     "execution_count": 7,
     "metadata": {},
     "output_type": "execute_result"
    }
   ],
   "source": [
    "len(b)"
   ]
  }
 ],
 "metadata": {
  "kernelspec": {
   "display_name": ".venv",
   "language": "python",
   "name": "python3"
  },
  "language_info": {
   "codemirror_mode": {
    "name": "ipython",
    "version": 3
   },
   "file_extension": ".py",
   "mimetype": "text/x-python",
   "name": "python",
   "nbconvert_exporter": "python",
   "pygments_lexer": "ipython3",
<<<<<<< HEAD
   "version": "3.12.4"
=======
   "version": "3.12.2"
>>>>>>> f58e5f8acc3948c31fba0fb7a6da8c02e4396343
  }
 },
 "nbformat": 4,
 "nbformat_minor": 2
}
