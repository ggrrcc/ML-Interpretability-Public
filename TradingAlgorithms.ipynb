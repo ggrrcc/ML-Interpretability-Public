{
 "cells": [
  {
   "cell_type": "markdown",
   "metadata": {},
   "source": [
    "# Intro\n",
    "\n",
    "IMPORTANT: Edit input info in signal_info.py\n",
    "\n",
    "In this project, we will be testing a broken down buy/hold/sell strategy. This strategy forms a new portfolio every month by buying \"A\" stock and selling \"F\" stocks.\n",
    "\n",
    "    # strategy: long 'A' stocks (>90 score), short 'F' stocks (<= 70 score for now)\n",
    "    # For each $1 NAV, we open $1 total of long positions AND $1 total of short positions\n",
    "    # This would be the max leverage allowed given 50% margin requirements\n",
    "    # Assume 100% of portfolio liquidated each month and repurchased with new quantities\n",
    "\n",
    "\n",
    "The portfolio should be **equal-weighted**. # Can change, maybe rank?"
   ]
  },
  {
   "cell_type": "markdown",
   "metadata": {},
   "source": [
    "# Signal Info\n",
    "\n",
    "WRDS_Compustat_Fundamentals codes: naics, rdq, atq, ltq, oiadpq, req, revtq, wcapq, xoprq\n",
    "\n",
    "Notes: current_signals is set through the processing stage.\n",
    "\n",
    "Signals:\n",
    "\n",
    "As our bankruptcy measure, we'll use Altman Z-Score from the COMPUSTAT Fundamental Annual dataset on WRDS:\n",
    "\n",
    "$$\\text{Altman Z-Score} = 1.2*\\frac{NWC}{TA} + 1.4*\\frac{RE}{TA} + 3.3*\\frac{EBIT}{TA} + 0.6*\\frac{\\text{Equity}}{TL} + 1.0*\\frac{\\text{Revenue}}{TA}$$\n",
    "\n",
    "$\\frac{\\text{Retained Earnings}}{\\text{Total Debt}}$ gives us an outlook into how well a given company can weather hardship going forward.\n",
    "\n",
    "EPS_Old is something that affects retail traders more, so some stocks may be a small bump and could be tradeable\n",
    "\n",
    "Momentum (which consists of Value, Growth, Quality, and K-Score), along with Moving Average and Price Acceleration, are classic technical trading signals that have had staying power."
   ]
  },
  {
   "cell_type": "markdown",
   "metadata": {},
   "source": [
    "# TODO: Add stories for the following"
   ]
  },
  {
   "cell_type": "markdown",
   "metadata": {},
   "source": [
    "## Addison\n",
    "Net Income - See company revenue and performance over the years; State/Province - see location effect on \"wellbeing\" of stock\n",
    "\n",
    "OA Cash flows - determine actual cash flows of activity that generate revenue, could positively correlate to market price per share and dividend\n",
    "\n",
    "Gross margin - company might have high sales but low gross margin due to high cogs, rising GM can increase stock price\n",
    "\n",
    "Debt to Equity - see company's shares outstanding relative to their debt, higher financing from debt may negatively impact price\n"
   ]
  },
  {
   "cell_type": "markdown",
   "metadata": {},
   "source": [
    "## Antony\n",
    "\n",
    "ROE, ROA, Operating Efficiency, Leverage Ratio, Interest Cover Ratio\n"
   ]
  },
  {
   "cell_type": "markdown",
   "metadata": {},
   "source": [
    "## Ben\n",
    "\n",
    "Signal 1\n",
    "\n",
    "Signal 2"
   ]
  },
  {
   "cell_type": "markdown",
   "metadata": {},
   "source": [
    "## Jackson\n",
    "\n",
    "Debt - Looking at a companies debt at face value provides some insight into their operations.\n",
    "\n",
    "Debt to Equities Ratio - Looking at this value provides a description of how much debt a company has versus their assets indicating how risky and growth oriented the company is."
   ]
  },
  {
   "cell_type": "markdown",
   "metadata": {},
   "source": [
    "## Rohan\n",
    "\n",
    "Volume, EPS, P/E Ratio, RSI, Bollinger Bands\n"
   ]
  },
  {
   "cell_type": "markdown",
   "metadata": {},
   "source": [
    "## Ryan\n",
    "\n",
    "Current Assets, Cash Flow Model, Income Taxes, Acquisitions, Depreciation & Amortization\n"
   ]
  },
  {
   "cell_type": "markdown",
   "metadata": {},
   "source": [
    "## Ved\n",
    "\n",
    "Profit Margin, Risk-Free Rate, Total Invested Capital, Net Recievables, Return on Invested Capital"
   ]
  },
  {
   "cell_type": "markdown",
   "metadata": {},
   "source": [
    "# <span style=\"color:blue\">Part 1</span>: Data Processing (if needed) and setup"
   ]
  },
  {
   "cell_type": "code",
   "execution_count": 26,
   "metadata": {},
   "outputs": [],
   "source": [
    "# Imports\n",
    "import numpy as np\n",
    "import pandas as pd\n",
    "from collections import Counter\n",
    "from IPython.display import display, Markdown, Latex, clear_output\n",
    "import time # for initial_data_processor\n",
    "from pathlib import Path # for initial_data_processor\n",
    "import scipy.stats as stats\n",
    "import statsmodels.api as sm\n",
    "import math\n",
    "\n",
    "import datetime as dt\n",
    "from datetime import timedelta, date\n",
    "import time\n",
    "\n",
    "from sklearn.model_selection import train_test_split\n",
    "from sklearn.ensemble import RandomForestClassifier\n",
    "from sklearn.preprocessing import LabelEncoder, StandardScaler\n",
    "\n",
    "import matplotlib.pyplot as plt\n",
    "import matplotlib.dates as mdates\n",
    "import matplotlib.ticker as ticker\n",
    "\n",
    "import gc\n",
    "\n",
    "# # Comment in/out if needed\n",
    "# import warnings\n",
    "# warnings.filterwarnings(\"ignore\", category=DeprecationWarning)\n",
    "\n",
    "# # Suppress specific warning\n",
    "# from sklearn.exceptions import DataConversionWarning\n",
    "# warnings.filterwarnings(\"ignore\", category=DataConversionWarning)"
   ]
  },
  {
   "cell_type": "code",
   "execution_count": null,
   "metadata": {},
   "outputs": [],
   "source": [
    "# Inputs and Constants\n",
    "%run Background_Scripts/inputs&constants.ipynb"
   ]
  },
  {
   "cell_type": "code",
   "execution_count": null,
   "metadata": {},
   "outputs": [],
   "source": [
    "# Creating our portfolios\n",
    "%run Background_Scripts/portfolio.ipynb\n",
    "# global portfolio_permnos_list, portfolio_keys_list\n",
    "if is_full == True:\n",
    "    print('this aint gonna work temporarily, WIP')\n",
    "else:\n",
    "    permnos = [['11308'], ['12490'], ['19561'], ['52695'], ['66093'], ['66157'], ['77730']]\n",
    "portfolio_permnos_list, portfolio_keys_list = portfolio_types(merged_data, permnos)"
   ]
  },
  {
   "cell_type": "code",
   "execution_count": null,
   "metadata": {},
   "outputs": [],
   "source": [
    "p0 = Portfolio(portfolio_keys_list[0], portfolio_permnos_list[0], 0, missing_signal, merged_data, merged_data_train, merged_data_test)\n",
    "p0.compute_trades()\n",
    "p0.execute_trades()\n",
    "p0.output_stats()"
   ]
  },
  {
   "cell_type": "code",
   "execution_count": null,
   "metadata": {},
   "outputs": [],
   "source": [
    "p1 = Portfolio(portfolio_keys_list[1], portfolio_permnos_list[1], 1, missing_signal, merged_data, merged_data_train, merged_data_test)\n",
    "p1.compute_trades()\n",
    "p1.execute_trades()\n",
    "p1.output_stats()"
   ]
  },
  {
   "cell_type": "code",
   "execution_count": null,
   "metadata": {},
   "outputs": [],
   "source": [
    "p2 = Portfolio(portfolio_keys_list[2], portfolio_permnos_list[2], 2, missing_signal, merged_data, merged_data_train, merged_data_test)\n",
    "p2.compute_trades()\n",
    "p2.execute_trades()\n",
    "p2.output_stats()"
   ]
  },
  {
   "cell_type": "code",
   "execution_count": null,
   "metadata": {},
   "outputs": [],
   "source": [
    "p3 = Portfolio(portfolio_keys_list[3], portfolio_permnos_list[3], 3, missing_signal, merged_data, merged_data_train, merged_data_test)\n",
    "p3.compute_trades()\n",
    "p3.execute_trades()\n",
    "p3.output_stats()"
   ]
  }
 ],
 "metadata": {
  "kernelspec": {
   "display_name": "Python 3",
   "language": "python",
   "name": "python3"
  },
  "language_info": {
   "codemirror_mode": {
    "name": "ipython",
    "version": 3
   },
   "file_extension": ".py",
   "mimetype": "text/x-python",
   "name": "python",
   "nbconvert_exporter": "python",
   "pygments_lexer": "ipython3",
   "version": "3.12.4"
  }
 },
 "nbformat": 4,
 "nbformat_minor": 2
}
