{
 "cells": [
  {
   "cell_type": "markdown",
   "metadata": {},
   "source": [
    "## Trading Marginal Analysis\n",
    "\n",
    "This file does marginal analysis by looking at the performance of each model, and then removing each signal one at a time and seeing the change in performance. So it runs TradingAlgorithms.ipynb over and over again and reads in the stats that are saved."
   ]
  },
  {
   "cell_type": "code",
   "execution_count": null,
   "metadata": {},
   "outputs": [],
   "source": [
    "# This file is used in MarginalAnalysis. It keeps track of how important each signal is to the performance of the final result.\n",
    "# It looks at the performance of the model, and then it looks at the the same model trained on the same data minus that signal\n",
    "# and looks at the change in performance.\n",
    "def display_stats():\n",
    "    # TODO: some charts to see this delta over time\n",
    "    # TODO: make this flexible depending on the number of models\n",
    "\n",
    "    stats_list = []\n",
    "    for i in range(4):\n",
    "        curr_stats = {}\n",
    "        for j in range(-1, num_signals):\n",
    "            file = 'Output/' + str(time_date) + '/' + str(i) + '/' + strategy_info['brief descriptor'] + '_' + str(j) + '/backtest_stats.csv'\n",
    "            curr_stats[j] = round(float(pd.read_csv(file, index_col=0).loc['alpha (ann)', :].iat[0]), 4)\n",
    "        print(\"Original annualized alpha on model #\" + str(i) + \":\", curr_stats[-1])\n",
    "        for j in range(num_signals):\n",
    "            if curr_stats[-1] > curr_stats[j]:\n",
    "                incdec = \"a decrease\"\n",
    "                diff = round(curr_stats[-1] - curr_stats[j], 4)\n",
    "            elif curr_stats[-1] < curr_stats[j]:\n",
    "                incdec = \"an increase\"\n",
    "                diff = round(curr_stats[j] - curr_stats[-1], 4)\n",
    "            else:\n",
    "                incdec = \"a change\"\n",
    "                diff = 0\n",
    "            print(\"\\tPerformance minus\", list(signal_label_dict_og.keys())[j], \"is\", str(curr_stats[j]) + \",\", incdec, \"of\", diff) # TODO: turn into printf to be cleaner\n",
    "        stats_list.append(curr_stats)\n",
    "        if i != 3:\n",
    "            print()\n",
    "    # stats_list"
   ]
  },
  {
   "cell_type": "code",
   "execution_count": null,
   "metadata": {},
   "outputs": [],
   "source": [
    "# If this is a test, uses price_data_test.csv and Fundamental_test.dta to create merged_test.dta to make sure base calculations are good\n",
    "test_added = ''\n",
    "while True:\n",
    "    is_test_input = input('Is this a test? (Enter True or False) ')\n",
    "    if is_test_input == \"True\":\n",
    "        is_test = True\n",
    "        break\n",
    "    if is_test_input == \"False\":\n",
    "        is_test = False\n",
    "        break\n",
    "    else:\n",
    "        print('Try again.')\n",
    "\n",
    "full_added = ''\n",
    "if not is_test:\n",
    "    while True:\n",
    "        is_full_input = input('Is this the full data? (Enter True or False) ') # User prompt\n",
    "        if is_full_input == \"True\":\n",
    "            is_full = True\n",
    "            break\n",
    "        if is_full_input == \"False\":\n",
    "            is_full = False\n",
    "            break\n",
    "        else:\n",
    "            print('Try again.')\n",
    "else:\n",
    "    is_full = False\n",
    "\n",
    "# This is the base model\n",
    "print('None removed')\n",
    "%run signal_info.py\n",
    "signal_label_dict_og, strategy_info = create_signal_label_dict()\n",
    "%run TradingAlgorithms.ipynb\n",
    "print('\\td')\n",
    "missing_signal = 0\n",
    "\n",
    "# This removes one signal at a time from the signal_label_dict and runs TradingAlgorithms with that smaller list\n",
    "for k in signal_label_dict_og.keys():\n",
    "    if k == 'Gen_Label':\n",
    "        continue\n",
    "    print(k)\n",
    "    signal_label_dict = signal_label_dict_og.copy()\n",
    "    del signal_label_dict[k]\n",
    "\n",
    "    current_signals = signal_label_dict.keys()\n",
    "    num_signals = len(list(signal_label_dict.keys()))\n",
    "    min_accounting_lag = 1\n",
    "    # Info about the strategy, used for ex-post statistics and output not the actual backtest\n",
    "    strategy_info = {\n",
    "        'brief descriptor': '7stock_{0}signal_monthly'.format(num_signals), \n",
    "        'plot descriptor': 'B/H/S Strategy, Equal-Weighted',\n",
    "        'universe': 'Public US equities with accounting data',\n",
    "        'signals': current_signals, #, measured at most recent earnings announcement??\n",
    "        'trading rule': 'Buy \"A\" stocks, sell \"F\" stocks', # What kind of weight? equal, rank, value?\n",
    "        'holding period': 'One month',\n",
    "        'periods per year': 12,\n",
    "        'time lag': 'Minimum of {0} days from announcement of quarterly earnings'.format(min_accounting_lag),\n",
    "        'output folder name': 'Output'\n",
    "    }\n",
    "\n",
    "    %run TradingAlgorithms.ipynb\n",
    "    print('\\td')\n",
    "    missing_signal += 1\n",
    "missing_signal = -1"
   ]
  },
  {
   "cell_type": "code",
   "execution_count": null,
   "metadata": {},
   "outputs": [],
   "source": [
    "%%capture cap --no-stderr\n",
    "%run Background_Scripts/display_MA_stats.ipynb\n",
    "with open(f'Output/{time_date}/output.txt', 'w') as file:\n",
    "    file.write(cap.stdout)"
   ]
  },
  {
   "cell_type": "code",
   "execution_count": null,
   "metadata": {},
   "outputs": [],
   "source": [
    "print(cap)"
   ]
  }
 ],
 "metadata": {
  "kernelspec": {
   "display_name": ".venv",
   "language": "python",
   "name": "python3"
  },
  "language_info": {
   "codemirror_mode": {
    "name": "ipython",
    "version": 3
   },
   "file_extension": ".py",
   "mimetype": "text/x-python",
   "name": "python",
   "nbconvert_exporter": "python",
   "pygments_lexer": "ipython3",
   "version": "3.12.3"
  }
 },
 "nbformat": 4,
 "nbformat_minor": 2
}
